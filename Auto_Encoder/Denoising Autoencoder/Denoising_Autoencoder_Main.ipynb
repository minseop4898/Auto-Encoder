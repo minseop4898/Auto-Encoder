{
 "cells": [
  {
   "cell_type": "code",
   "execution_count": 1,
   "metadata": {},
   "outputs": [],
   "source": [
    "from Denoising_Autoencoder import Denoising_Autoencoder\n",
    "import numpy as np\n",
    "from tensorflow.examples.tutorials.mnist import input_data\n",
    "import matplotlib.pyplot as plt"
   ]
  },
  {
   "cell_type": "code",
   "execution_count": 2,
   "metadata": {},
   "outputs": [],
   "source": [
    "def zero_center(X_train, X_val ,X_test):\n",
    "    mean_image = np.mean(X_train)\n",
    "    X_train -= mean_image\n",
    "    X_test -= mean_image\n",
    "    X_val -= mean_image\n",
    "    return mean_image \n",
    "\n",
    "def get_random_batch(data, batch_size):\n",
    "    start_index = np.random.randint(0, len(data)-batch_size)\n",
    "    return data[start_index:start_index+batch_size]"
   ]
  },
  {
   "cell_type": "code",
   "execution_count": 3,
   "metadata": {},
   "outputs": [
    {
     "name": "stdout",
     "output_type": "stream",
     "text": [
      "Extracting MNIST_data\\train-images-idx3-ubyte.gz\n",
      "Extracting MNIST_data\\train-labels-idx1-ubyte.gz\n",
      "Extracting MNIST_data\\t10k-images-idx3-ubyte.gz\n",
      "Extracting MNIST_data\\t10k-labels-idx1-ubyte.gz\n"
     ]
    }
   ],
   "source": [
    "mnist = input_data.read_data_sets('MNIST_data', one_hot=True)"
   ]
  },
  {
   "cell_type": "code",
   "execution_count": 4,
   "metadata": {},
   "outputs": [],
   "source": [
    "X_train = mnist.train.images\n",
    "X_val = mnist.validation.images\n",
    "X_test = mnist.test.images\n",
    "\n",
    "X_train_mean = zero_center(X_train, X_val, X_test)"
   ]
  },
  {
   "cell_type": "code",
   "execution_count": 5,
   "metadata": {},
   "outputs": [],
   "source": [
    "n_samples = int(X_train.shape[0])\n",
    "train_epochs = 30\n",
    "batch_size = 128\n",
    "display_step = 5\n",
    "\n",
    "autoencoder = Denoising_Autoencoder(n_input=784, n_hidden=100, scale=0.01)"
   ]
  },
  {
   "cell_type": "code",
   "execution_count": 6,
   "metadata": {
    "scrolled": true
   },
   "outputs": [
    {
     "name": "stdout",
     "output_type": "stream",
     "text": [
      "Epoch: 0001 cost= 1770.80351\n",
      "Epoch: 0006 cost= 362.64889\n",
      "Epoch: 0011 cost= 329.05719\n",
      "Epoch: 0016 cost= 325.91073\n",
      "Epoch: 0021 cost= 320.86676\n",
      "Epoch: 0026 cost= 320.74285\n"
     ]
    }
   ],
   "source": [
    "for epoch in range(train_epochs):\n",
    "    avg_cost = 0.0\n",
    "    num_iter = int(n_samples/batch_size)\n",
    "    for i in range(num_iter):\n",
    "        batch_x = get_random_batch(X_train, batch_size)\n",
    "        cost = autoencoder.partial_fit(batch_x)\n",
    "        avg_cost += cost\n",
    "    avg_cost /= num_iter\n",
    "    \n",
    "    if epoch % display_step == 0:\n",
    "        print('Epoch:','%04d'%(epoch+1),'cost=','%.5f'%avg_cost)"
   ]
  },
  {
   "cell_type": "code",
   "execution_count": 7,
   "metadata": {},
   "outputs": [
    {
     "name": "stdout",
     "output_type": "stream",
     "text": [
      "Test cost: 24484.34375\n"
     ]
    }
   ],
   "source": [
    "print('Test cost:','%.5f'%autoencoder.calc_total_cost(X_test))"
   ]
  },
  {
   "cell_type": "code",
   "execution_count": 14,
   "metadata": {},
   "outputs": [
    {
     "data": {
      "text/plain": [
       "<matplotlib.image.AxesImage at 0x1fd950d66d8>"
      ]
     },
     "execution_count": 14,
     "metadata": {},
     "output_type": "execute_result"
    },
    {
     "data": {
      "image/png": "[encoded data removed]",
      "text/plain": [
       "<Figure size 432x288 with 1 Axes>"
      ]
     },
     "metadata": {
      "needs_background": "light"
     },
     "output_type": "display_data"
    }
   ],
   "source": [
    "sample_img = X_test[0].reshape((1,-1))\n",
    "feature_img = autoencoder.transform(sample_img).reshape((10,10))\n",
    "plt.imshow(feature_img,cmap='gray')"
   ]
  },
  {
   "cell_type": "code",
   "execution_count": 17,
   "metadata": {},
   "outputs": [
    {
     "data": {
      "text/plain": [
       "<matplotlib.image.AxesImage at 0x1fd9fc8c898>"
      ]
     },
     "execution_count": 17,
     "metadata": {},
     "output_type": "execute_result"
    },
    {
     "data": {
      "image/png": "[encoded data removed]",
      "text/plain": [
       "<Figure size 432x288 with 1 Axes>"
      ]
     },
     "metadata": {
      "needs_background": "light"
     },
     "output_type": "display_data"
    }
   ],
   "source": [
    "generated_img = autoencoder.generate(feature_img.reshape((1,-1))).reshape((28,28))\n",
    "plt.imshow(generated_img, cmap='gray')"
   ]
  },
  {
   "cell_type": "code",
   "execution_count": null,
   "metadata": {},
   "outputs": [],
   "source": []
  }
 ],
 "metadata": {
  "kernelspec": {
   "display_name": "Python 3",
   "language": "python",
   "name": "python3"
  },
  "language_info": {
   "codemirror_mode": {
    "name": "ipython",
    "version": 3
   },
   "file_extension": ".py",
   "mimetype": "text/x-python",
   "name": "python",
   "nbconvert_exporter": "python",
   "pygments_lexer": "ipython3",
   "version": "3.6.8"
  }
 },
 "nbformat": 4,
 "nbformat_minor": 2
}
